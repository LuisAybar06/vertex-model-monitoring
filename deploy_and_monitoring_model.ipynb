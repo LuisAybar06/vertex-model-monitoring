{
 "cells": [
  {
   "cell_type": "code",
   "execution_count": 1,
   "id": "18419ccb-cacc-4795-b0b6-e164c99b851a",
   "metadata": {},
   "outputs": [],
   "source": [
    "import kfp\n",
    "from google.cloud import aiplatform\n",
    "from typing import NamedTuple\n",
    "from kfp.v2 import dsl, compiler\n",
    "from kfp.v2.dsl import (Artifact, ClassificationMetrics, Input, Metrics, Output, component, Dataset)\n",
    "from google.cloud import storage\n",
    "from google_cloud_pipeline_components.v1.vertex_notification_email import VertexNotificationEmailOp"
   ]
  },
  {
   "cell_type": "code",
   "execution_count": 2,
   "id": "6be8b188-163c-42d4-a923-c8e0265f3e76",
   "metadata": {},
   "outputs": [],
   "source": [
    "aiplatform.init(project=\"trim-odyssey-390415\", location=\"us-central1\")"
   ]
  },
  {
   "cell_type": "code",
   "execution_count": 3,
   "id": "a987ad19-6a8f-4c8f-a0fa-12568b03ca58",
   "metadata": {},
   "outputs": [
    {
     "name": "stdout",
     "output_type": "stream",
     "text": [
      "Creating Model\n",
      "Create Model backing LRO: projects/668142834453/locations/us-central1/models/8340342153959964672/operations/4476294527404998656\n",
      "Model created. Resource name: projects/668142834453/locations/us-central1/models/8340342153959964672@1\n",
      "To use this Model in another session:\n",
      "model = aiplatform.Model('projects/668142834453/locations/us-central1/models/8340342153959964672@1')\n"
     ]
    }
   ],
   "source": [
    "model = aiplatform.Model.upload(\n",
    "    display_name=\"linear_regression\",\n",
    "    artifact_uri=\"gs://vertex_mlops/demo/data/model\",\n",
    "    serving_container_image_uri='us-docker.pkg.dev/vertex-ai/prediction/sklearn-cpu.1-3:latest')"
   ]
  },
  {
   "cell_type": "code",
   "execution_count": 4,
   "id": "e254df21-d9b7-47e8-a5fc-cc40841e8acf",
   "metadata": {},
   "outputs": [],
   "source": [
    "models = aiplatform.Model.list()"
   ]
  },
  {
   "cell_type": "code",
   "execution_count": 5,
   "id": "35c51432-15e8-430a-bfa3-f63ce7862a2d",
   "metadata": {},
   "outputs": [
    {
     "name": "stdout",
     "output_type": "stream",
     "text": [
      "Model name: linear_regression, Model ID: projects/668142834453/locations/us-central1/models/8340342153959964672\n"
     ]
    }
   ],
   "source": [
    "print(f\"Model name: {model.display_name}, Model ID: {model.resource_name}\")"
   ]
  },
  {
   "cell_type": "code",
   "execution_count": null,
   "id": "5635942f-1a21-46e5-9fb3-176a6312d131",
   "metadata": {},
   "outputs": [],
   "source": []
  },
  {
   "cell_type": "code",
   "execution_count": null,
   "id": "22b3752c-4041-4c2c-a034-45e968352eba",
   "metadata": {},
   "outputs": [],
   "source": []
  },
  {
   "cell_type": "code",
   "execution_count": 6,
   "id": "eefd03d5-f331-4602-8c2f-8d90d15ced05",
   "metadata": {},
   "outputs": [
    {
     "name": "stdout",
     "output_type": "stream",
     "text": [
      "Creating Model\n",
      "Create Model backing LRO: projects/668142834453/locations/us-central1/models/8340342153959964672/operations/6813662734010286080\n",
      "Model created. Resource name: projects/668142834453/locations/us-central1/models/8340342153959964672@2\n",
      "To use this Model in another session:\n",
      "model = aiplatform.Model('projects/668142834453/locations/us-central1/models/8340342153959964672@2')\n",
      "New model version uploaded: linear_regression\n"
     ]
    }
   ],
   "source": [
    "from typing import List\n",
    "from google.cloud import aiplatform\n",
    "\n",
    "def upload_new_model_version(\n",
    "    display_name: str,\n",
    "    artifact_uri: str,\n",
    "    serving_container_image_uri: str,\n",
    "    parent_model: str,\n",
    "    is_default_version: bool,\n",
    "    project: str,\n",
    "    location: str,\n",
    "):\n",
    "\n",
    "    aiplatform.init(project=project, location=location)\n",
    "\n",
    "    \n",
    "    model = aiplatform.Model.upload(\n",
    "        display_name=display_name,\n",
    "        artifact_uri=artifact_uri,\n",
    "        serving_container_image_uri=serving_container_image_uri,\n",
    "        parent_model=parent_model,\n",
    "        is_default_version=is_default_version\n",
    "    )\n",
    "    \n",
    "    print(f\"New model version uploaded: {model.display_name}\")\n",
    "    model.wait()\n",
    "    \n",
    "    return model\n",
    "\n",
    "# Parámetros de entrada\n",
    "project = \"trim-odyssey-390415\"\n",
    "location = \"us-central1\"\n",
    "artifact_uri = \"gs://vertex_mlops/demo/data/model\"\n",
    "serving_container_image_uri = 'us-docker.pkg.dev/vertex-ai/prediction/sklearn-cpu.1-3:latest'\n",
    "parent_model = \"projects/668142834453/locations/us-central1/models/8340342153959964672\"  \n",
    "is_default_version = True\n",
    "\n",
    "\n",
    "model = upload_new_model_version(\n",
    "    display_name=\"linear_regression\",\n",
    "    artifact_uri=artifact_uri,\n",
    "    serving_container_image_uri=serving_container_image_uri,\n",
    "    parent_model=parent_model,\n",
    "    is_default_version=is_default_version,\n",
    "    project=project,\n",
    "    location=location\n",
    ")"
   ]
  },
  {
   "cell_type": "code",
   "execution_count": null,
   "id": "1262d84d-3206-4f8e-a9bc-5cbd82da61b7",
   "metadata": {},
   "outputs": [],
   "source": []
  },
  {
   "cell_type": "code",
   "execution_count": 7,
   "id": "e31da379-d867-4a5d-87f7-dd77ca5cef21",
   "metadata": {},
   "outputs": [
    {
     "name": "stdout",
     "output_type": "stream",
     "text": [
      "Creating Endpoint\n",
      "Create Endpoint backing LRO: projects/668142834453/locations/us-central1/endpoints/8980175457953513472/operations/3038520346366967808\n",
      "Endpoint created. Resource name: projects/668142834453/locations/us-central1/endpoints/8980175457953513472\n",
      "To use this Endpoint in another session:\n",
      "endpoint = aiplatform.Endpoint('projects/668142834453/locations/us-central1/endpoints/8980175457953513472')\n",
      "linear_regression\n",
      "projects/668142834453/locations/us-central1/endpoints/8980175457953513472\n"
     ]
    }
   ],
   "source": [
    "def create_endpoint_sample(\n",
    "    project: str,\n",
    "    display_name: str,\n",
    "    location: str,\n",
    "):\n",
    "    aiplatform.init(project=project, location=location)\n",
    "\n",
    "    endpoint = aiplatform.Endpoint.create(\n",
    "        display_name=display_name,\n",
    "        project=project,\n",
    "        location=location,\n",
    "    )\n",
    "\n",
    "    print(endpoint.display_name)\n",
    "    print(endpoint.resource_name)\n",
    "    return endpoint\n",
    "\n",
    "\n",
    "# Parámetros de entrada\n",
    "project = \"trim-odyssey-390415\"\n",
    "location = \"us-central1\"\n",
    "display_name=\"linear_regression\"\n",
    "\n",
    "endpoint = create_endpoint_sample(project, display_name, location)"
   ]
  },
  {
   "cell_type": "code",
   "execution_count": null,
   "id": "85bb4a06-093c-4c80-bc8c-d9d50ca8c815",
   "metadata": {},
   "outputs": [],
   "source": []
  },
  {
   "cell_type": "code",
   "execution_count": null,
   "id": "31b03b0e-6425-4ddf-afd4-33ab9f34c818",
   "metadata": {},
   "outputs": [],
   "source": []
  },
  {
   "cell_type": "code",
   "execution_count": null,
   "id": "79191b80-77cf-439a-8bf5-eb8a4aaf7ea4",
   "metadata": {},
   "outputs": [],
   "source": []
  },
  {
   "cell_type": "code",
   "execution_count": 8,
   "id": "7b26a113-ed9d-4160-9f7c-72cc748a4d01",
   "metadata": {},
   "outputs": [
    {
     "name": "stdout",
     "output_type": "stream",
     "text": [
      "Deploying model to Endpoint : projects/668142834453/locations/us-central1/endpoints/8980175457953513472\n",
      "Deploy Endpoint model backing LRO: projects/668142834453/locations/us-central1/endpoints/8980175457953513472/operations/2493584791455137792\n",
      "Endpoint model deployed. Resource name: projects/668142834453/locations/us-central1/endpoints/8980175457953513472\n",
      "Model deployed to endpoint: projects/668142834453/locations/us-central1/endpoints/8980175457953513472\n"
     ]
    }
   ],
   "source": [
    "from google.cloud import aiplatform\n",
    "\n",
    "def deploy_model_to_endpoint():\n",
    "    aiplatform.init(project=\"trim-odyssey-390415\", location=\"us-central1\")\n",
    "    \n",
    "    endpoint = aiplatform.Endpoint('projects/668142834453/locations/us-central1/endpoints/8980175457953513472')\n",
    "    model = aiplatform.Model('projects/668142834453/locations/us-central1/models/8340342153959964672')\n",
    "    \n",
    "    # Desplegar el modelo en el endpoint\n",
    "    model.deploy(\n",
    "        endpoint=endpoint,\n",
    "        machine_type=\"n1-standard-4\",\n",
    "        traffic_split={\"0\": 100},\n",
    "        min_replica_count=1,\n",
    "        max_replica_count=1\n",
    "    )\n",
    "    \n",
    "    print(f\"Model deployed to endpoint: {endpoint.resource_name}\")\n",
    "\n",
    "deploy_model_to_endpoint()"
   ]
  },
  {
   "cell_type": "code",
   "execution_count": null,
   "id": "74b05b65-d232-4eff-8cf1-68208dfa6a8e",
   "metadata": {},
   "outputs": [],
   "source": []
  },
  {
   "cell_type": "code",
   "execution_count": null,
   "id": "b55c8225-097c-40b1-a406-29e37ab3c9a7",
   "metadata": {},
   "outputs": [],
   "source": []
  },
  {
   "cell_type": "code",
   "execution_count": null,
   "id": "0ac6f4b5-0042-4e51-b562-f49a21e2f930",
   "metadata": {},
   "outputs": [],
   "source": [
    "from google.cloud import aiplatform_v1beta1\n",
    "from google.protobuf import json_format\n",
    "from google.protobuf.struct_pb2 import Value\n",
    "\n",
    "def create_batch_prediction_job_bigquery(\n",
    "    project: str,\n",
    "    display_name: str,\n",
    "    model_name: str,\n",
    "    bigquery_source_input_uri: str,\n",
    "    bigquery_destination_output_uri: str,\n",
    "    location: str = \"us-central1\",\n",
    "    api_endpoint: str = \"us-central1-aiplatform.googleapis.com\",\n",
    "):\n",
    "    # The AI Platform services require regional API endpoints.\n",
    "    client_options = {\"api_endpoint\": api_endpoint}\n",
    "    \n",
    "    client = aiplatform_v1beta1.JobServiceClient(client_options=client_options)\n",
    "    \n",
    "    model_parameters_dict = {}\n",
    "    model_parameters = json_format.ParseDict(model_parameters_dict, Value())\n",
    "\n",
    "    batch_prediction_job = {\n",
    "        \"display_name\": display_name,\n",
    "        \"model\": model_name,\n",
    "        \"model_parameters\": model_parameters,\n",
    "        \"input_config\": {\n",
    "            \"instances_format\": \"bigquery\", \n",
    "            \"bigquery_source\": {\"input_uri\": bigquery_source_input_uri},\n",
    "        },\n",
    "        \"output_config\": {\n",
    "            \"predictions_format\": \"bigquery\",\n",
    "            \"bigquery_destination\": {\"output_uri\": bigquery_destination_output_uri},\n",
    "        },\n",
    "        \"dedicated_resources\": {\n",
    "            \"machine_spec\": {\n",
    "                \"machine_type\": \"n1-standard-4\",\n",
    "            },\n",
    "            \"starting_replica_count\": 1,\n",
    "            \"max_replica_count\": 1,\n",
    "        },\n",
    "        # Model monitoring service is triggered if provided following configs.\n",
    "        \"model_monitoring_config\": {\n",
    "            \"alert_config\": {\n",
    "                \"email_alert_config\": {\n",
    "                    \"user_emails\": [\"a.luisaybar@gmail.com\"]\n",
    "                }\n",
    "            },\n",
    "            \"objective_configs\": [\n",
    "                {\n",
    "                    \"training_dataset\": {\n",
    "                        \"data_format\": \"bigquery\",\n",
    "                        \"bigquery_source\": {\"input_uri\": \"bq://trim-odyssey-390415.laybarm.xtrain\"}\n",
    "                    },\n",
    "                    \"training_prediction_skew_detection_config\": {\n",
    "                        \"skew_thresholds\": {\n",
    "                            \"MSSubClass\": {\"value\": 0.00001},\n",
    "                        }\n",
    "                    }\n",
    "                }\n",
    "            ]\n",
    "        },\n",
    "    }\n",
    "    \n",
    "    parent = f\"projects/{project}/locations/{location}\"\n",
    "    \n",
    "    response = client.create_batch_prediction_job(\n",
    "        parent=parent, batch_prediction_job=batch_prediction_job\n",
    "    )\n",
    "    \n",
    "    print(\"response:\", response)\n",
    "\n",
    "# Example usage\n",
    "create_batch_prediction_job_bigquery(\n",
    "    project=\"trim-odyssey-390415\",\n",
    "    display_name=\"linear_regression\",\n",
    "    model_name=\"projects/668142834453/locations/us-central1/models/8340342153959964672\",\n",
    "    bigquery_source_input_uri=\"bq://trim-odyssey-390415.laybarm.xtest\",\n",
    "    bigquery_destination_output_uri=\"bq://trim-odyssey-390415.laybarm.predictions14\"\n",
    ")\n"
   ]
  },
  {
   "cell_type": "code",
   "execution_count": null,
   "id": "ce923523-c580-412b-9e86-27c943940ea8",
   "metadata": {},
   "outputs": [],
   "source": []
  },
  {
   "cell_type": "code",
   "execution_count": null,
   "id": "37391876-c9f0-4c6d-9823-04532ab67710",
   "metadata": {},
   "outputs": [],
   "source": []
  }
 ],
 "metadata": {
  "environment": {
   "kernel": "python3",
   "name": "common-cpu.m91",
   "type": "gcloud",
   "uri": "gcr.io/deeplearning-platform-release/base-cpu:m91"
  },
  "kernelspec": {
   "display_name": "Python 3 (ipykernel)",
   "language": "python",
   "name": "python3"
  },
  "language_info": {
   "codemirror_mode": {
    "name": "ipython",
    "version": 3
   },
   "file_extension": ".py",
   "mimetype": "text/x-python",
   "name": "python",
   "nbconvert_exporter": "python",
   "pygments_lexer": "ipython3",
   "version": "3.8.19"
  }
 },
 "nbformat": 4,
 "nbformat_minor": 5
}
